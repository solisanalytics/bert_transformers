{
 "cells": [
  {
   "cell_type": "markdown",
   "id": "8184ffd4-6344-463d-86e3-20c2018250f7",
   "metadata": {},
   "source": [
    "# Bert Transformer - Sentence Similarity"
   ]
  },
  {
   "cell_type": "code",
   "execution_count": 1,
   "id": "af271d06-1a73-4384-a209-d10cc262afad",
   "metadata": {},
   "outputs": [],
   "source": [
    "# importing libraries\n",
    "import pandas as pd\n",
    "import matplotlib.pyplot as plt\n",
    "import torch\n",
    "from transformers import AutoTokenizer, AutoModel\n",
    "from sklearn.metrics.pairwise import cosine_similarity\n",
    "from itertools import combinations\n",
    "\n",
    "# pandas settings\n",
    "pd.set_option('display.max_columns', None)"
   ]
  },
  {
   "cell_type": "code",
   "execution_count": 2,
   "id": "12343c21-cbc5-4f8a-8a10-15d8f56800a9",
   "metadata": {},
   "outputs": [
    {
     "data": {
      "text/html": [
       "<div>\n",
       "<style scoped>\n",
       "    .dataframe tbody tr th:only-of-type {\n",
       "        vertical-align: middle;\n",
       "    }\n",
       "\n",
       "    .dataframe tbody tr th {\n",
       "        vertical-align: top;\n",
       "    }\n",
       "\n",
       "    .dataframe thead th {\n",
       "        text-align: right;\n",
       "    }\n",
       "</style>\n",
       "<table border=\"1\" class=\"dataframe\">\n",
       "  <thead>\n",
       "    <tr style=\"text-align: right;\">\n",
       "      <th></th>\n",
       "      <th>case</th>\n",
       "      <th>location</th>\n",
       "      <th>date</th>\n",
       "      <th>summary</th>\n",
       "      <th>fatalities</th>\n",
       "      <th>injured</th>\n",
       "      <th>total_victims</th>\n",
       "      <th>location.1</th>\n",
       "      <th>age_of_shooter</th>\n",
       "      <th>prior_signs_mental_health_issues</th>\n",
       "      <th>mental_health_details</th>\n",
       "      <th>weapons_obtained_legally</th>\n",
       "      <th>where_obtained</th>\n",
       "      <th>weapon_type</th>\n",
       "      <th>weapon_details</th>\n",
       "      <th>race</th>\n",
       "      <th>gender</th>\n",
       "      <th>sources</th>\n",
       "      <th>mental_health_sources</th>\n",
       "      <th>sources_additional_age</th>\n",
       "      <th>latitude</th>\n",
       "      <th>longitude</th>\n",
       "      <th>type</th>\n",
       "      <th>year</th>\n",
       "    </tr>\n",
       "  </thead>\n",
       "  <tbody>\n",
       "    <tr>\n",
       "      <th>0</th>\n",
       "      <td>Michigan State University shooting</td>\n",
       "      <td>East Lansing, Michigan</td>\n",
       "      <td>2/13/2023</td>\n",
       "      <td>Anthony D. McRae, 43, opened fire at Berkey Ha...</td>\n",
       "      <td>3</td>\n",
       "      <td>5</td>\n",
       "      <td>8</td>\n",
       "      <td>School</td>\n",
       "      <td>43</td>\n",
       "      <td>-</td>\n",
       "      <td>-</td>\n",
       "      <td>yes</td>\n",
       "      <td>-</td>\n",
       "      <td>semiautomatic handguns</td>\n",
       "      <td>-</td>\n",
       "      <td>Black</td>\n",
       "      <td>M</td>\n",
       "      <td>https://www.cnn.com/us/live-news/michigan-stat...</td>\n",
       "      <td>-</td>\n",
       "      <td>-</td>\n",
       "      <td>-</td>\n",
       "      <td>-</td>\n",
       "      <td>Mass</td>\n",
       "      <td>2023</td>\n",
       "    </tr>\n",
       "    <tr>\n",
       "      <th>1</th>\n",
       "      <td>Half Moon Bay spree shooting</td>\n",
       "      <td>Half Moon Bay, California</td>\n",
       "      <td>1/23/2023</td>\n",
       "      <td>Chunli Zhao, 67, suspected of carrying out the...</td>\n",
       "      <td>7</td>\n",
       "      <td>1</td>\n",
       "      <td>8</td>\n",
       "      <td>workplace</td>\n",
       "      <td>67</td>\n",
       "      <td>-</td>\n",
       "      <td>-</td>\n",
       "      <td>-</td>\n",
       "      <td>-</td>\n",
       "      <td>semiautomatic handgun</td>\n",
       "      <td>-</td>\n",
       "      <td>Asian</td>\n",
       "      <td>M</td>\n",
       "      <td>https://www.cnn.com/us/live-news/half-moon-bay...</td>\n",
       "      <td>-</td>\n",
       "      <td>-</td>\n",
       "      <td>-</td>\n",
       "      <td>-</td>\n",
       "      <td>Spree</td>\n",
       "      <td>2023</td>\n",
       "    </tr>\n",
       "    <tr>\n",
       "      <th>2</th>\n",
       "      <td>LA dance studio mass shooting</td>\n",
       "      <td>Monterey Park, California</td>\n",
       "      <td>1/21/2023</td>\n",
       "      <td>Huu Can Tran, 72, fled the scene in a white va...</td>\n",
       "      <td>11</td>\n",
       "      <td>10</td>\n",
       "      <td>21</td>\n",
       "      <td>Other</td>\n",
       "      <td>72</td>\n",
       "      <td>yes</td>\n",
       "      <td>According to the LA Times, \"Two law enforcemen...</td>\n",
       "      <td>-</td>\n",
       "      <td>-</td>\n",
       "      <td>semiautomatic assault weapon (Details pending)</td>\n",
       "      <td>-</td>\n",
       "      <td>Asian</td>\n",
       "      <td>M</td>\n",
       "      <td>https://www.latimes.com/california/story/2023-...</td>\n",
       "      <td>https://www.latimes.com/california/story/2023-...</td>\n",
       "      <td>-</td>\n",
       "      <td>-</td>\n",
       "      <td>-</td>\n",
       "      <td>Mass</td>\n",
       "      <td>2023</td>\n",
       "    </tr>\n",
       "    <tr>\n",
       "      <th>3</th>\n",
       "      <td>Virginia Walmart shooting</td>\n",
       "      <td>Chesapeake, Virginia</td>\n",
       "      <td>11/22/2022</td>\n",
       "      <td>Andre Bing, 31, who worked as a supervisor at ...</td>\n",
       "      <td>6</td>\n",
       "      <td>6</td>\n",
       "      <td>12</td>\n",
       "      <td>Workplace</td>\n",
       "      <td>31</td>\n",
       "      <td>-</td>\n",
       "      <td>-</td>\n",
       "      <td>-</td>\n",
       "      <td>-</td>\n",
       "      <td>semiautomatic handgun</td>\n",
       "      <td>-</td>\n",
       "      <td>Black</td>\n",
       "      <td>M</td>\n",
       "      <td>https://www.washingtonpost.com/dc-md-va/2022/1...</td>\n",
       "      <td>-</td>\n",
       "      <td>-</td>\n",
       "      <td>-</td>\n",
       "      <td>-</td>\n",
       "      <td>Mass</td>\n",
       "      <td>2022</td>\n",
       "    </tr>\n",
       "    <tr>\n",
       "      <th>4</th>\n",
       "      <td>LGBTQ club shooting</td>\n",
       "      <td>Colorado Springs, Colorado</td>\n",
       "      <td>11/19/2022</td>\n",
       "      <td>Anderson L. Aldrich, 22, wore body armor and o...</td>\n",
       "      <td>5</td>\n",
       "      <td>25</td>\n",
       "      <td>30</td>\n",
       "      <td>Other</td>\n",
       "      <td>22</td>\n",
       "      <td>yes</td>\n",
       "      <td>Aldrich reportedly had a history of menacing b...</td>\n",
       "      <td>-</td>\n",
       "      <td>-</td>\n",
       "      <td>semiautomatic rifle; semiautomatic handgun</td>\n",
       "      <td>-</td>\n",
       "      <td>White</td>\n",
       "      <td>M</td>\n",
       "      <td>https://coloradosun.com/2022/11/20/club-q-shoo...</td>\n",
       "      <td>https://www.nytimes.com/2022/11/20/us/colorado...</td>\n",
       "      <td>-</td>\n",
       "      <td>-</td>\n",
       "      <td>-</td>\n",
       "      <td>Mass</td>\n",
       "      <td>2022</td>\n",
       "    </tr>\n",
       "  </tbody>\n",
       "</table>\n",
       "</div>"
      ],
      "text/plain": [
       "                                 case                    location        date  \\\n",
       "0  Michigan State University shooting      East Lansing, Michigan   2/13/2023   \n",
       "1        Half Moon Bay spree shooting   Half Moon Bay, California   1/23/2023   \n",
       "2       LA dance studio mass shooting   Monterey Park, California   1/21/2023   \n",
       "3           Virginia Walmart shooting        Chesapeake, Virginia  11/22/2022   \n",
       "4                 LGBTQ club shooting  Colorado Springs, Colorado  11/19/2022   \n",
       "\n",
       "                                             summary  fatalities injured  \\\n",
       "0  Anthony D. McRae, 43, opened fire at Berkey Ha...           3       5   \n",
       "1  Chunli Zhao, 67, suspected of carrying out the...           7       1   \n",
       "2  Huu Can Tran, 72, fled the scene in a white va...          11      10   \n",
       "3  Andre Bing, 31, who worked as a supervisor at ...           6       6   \n",
       "4  Anderson L. Aldrich, 22, wore body armor and o...           5      25   \n",
       "\n",
       "  total_victims location.1 age_of_shooter prior_signs_mental_health_issues  \\\n",
       "0             8     School             43                                -   \n",
       "1             8  workplace             67                                -   \n",
       "2            21      Other             72                              yes   \n",
       "3            12  Workplace             31                                -   \n",
       "4            30      Other             22                              yes   \n",
       "\n",
       "                               mental_health_details weapons_obtained_legally  \\\n",
       "0                                                  -                      yes   \n",
       "1                                                  -                        -   \n",
       "2  According to the LA Times, \"Two law enforcemen...                        -   \n",
       "3                                                  -                        -   \n",
       "4  Aldrich reportedly had a history of menacing b...                        -   \n",
       "\n",
       "  where_obtained                                     weapon_type  \\\n",
       "0              -                          semiautomatic handguns   \n",
       "1              -                           semiautomatic handgun   \n",
       "2              -  semiautomatic assault weapon (Details pending)   \n",
       "3              -                           semiautomatic handgun   \n",
       "4              -      semiautomatic rifle; semiautomatic handgun   \n",
       "\n",
       "  weapon_details   race gender  \\\n",
       "0              -  Black      M   \n",
       "1              -  Asian      M   \n",
       "2              -  Asian      M   \n",
       "3              -  Black      M   \n",
       "4              -  White      M   \n",
       "\n",
       "                                             sources  \\\n",
       "0  https://www.cnn.com/us/live-news/michigan-stat...   \n",
       "1  https://www.cnn.com/us/live-news/half-moon-bay...   \n",
       "2  https://www.latimes.com/california/story/2023-...   \n",
       "3  https://www.washingtonpost.com/dc-md-va/2022/1...   \n",
       "4  https://coloradosun.com/2022/11/20/club-q-shoo...   \n",
       "\n",
       "                               mental_health_sources sources_additional_age  \\\n",
       "0                                                  -                      -   \n",
       "1                                                  -                      -   \n",
       "2  https://www.latimes.com/california/story/2023-...                      -   \n",
       "3                                                  -                      -   \n",
       "4  https://www.nytimes.com/2022/11/20/us/colorado...                      -   \n",
       "\n",
       "  latitude longitude   type  year  \n",
       "0        -         -   Mass  2023  \n",
       "1        -         -  Spree  2023  \n",
       "2        -         -   Mass  2023  \n",
       "3        -         -   Mass  2022  \n",
       "4        -         -   Mass  2022  "
      ]
     },
     "execution_count": 2,
     "metadata": {},
     "output_type": "execute_result"
    }
   ],
   "source": [
    "# loading data set\n",
    "df_cases = pd.read_csv('mother_jones_mass_shootings_1982-2023.csv')\n",
    "df_cases.head()"
   ]
  },
  {
   "cell_type": "code",
   "execution_count": 3,
   "id": "a074f3a5-d70a-4418-b9c9-fca923a90fc1",
   "metadata": {},
   "outputs": [],
   "source": [
    "# dropping columns\n",
    "df_cases_summary = df_cases.copy()\n",
    "df_cases_summary = df_cases_summary.iloc[:, :4]"
   ]
  },
  {
   "cell_type": "code",
   "execution_count": 4,
   "id": "fb06407e-2905-4e0b-916e-14b621b53147",
   "metadata": {},
   "outputs": [
    {
     "data": {
      "text/plain": [
       "case        object\n",
       "location    object\n",
       "date        object\n",
       "summary     object\n",
       "dtype: object"
      ]
     },
     "execution_count": 4,
     "metadata": {},
     "output_type": "execute_result"
    }
   ],
   "source": [
    "# column types\n",
    "df_cases_summary.dtypes"
   ]
  },
  {
   "cell_type": "code",
   "execution_count": 5,
   "id": "eff73da6-1ea4-4715-abbe-f15bc5a3b5da",
   "metadata": {},
   "outputs": [
    {
     "name": "stdout",
     "output_type": "stream",
     "text": [
      "case                object\n",
      "location            object\n",
      "date        datetime64[ns]\n",
      "summary             object\n",
      "dtype: object\n"
     ]
    }
   ],
   "source": [
    "# converting dtypes\n",
    "dict_convert = {\n",
    "    'date': 'datetime64[ns]'}\n",
    "\n",
    "df_cases_summary = df_cases_summary.astype(dict_convert)\n",
    "print(df_cases_summary.dtypes)"
   ]
  },
  {
   "cell_type": "code",
   "execution_count": 6,
   "id": "a4104c69-5f51-4855-ae79-2ef8b624d8e3",
   "metadata": {},
   "outputs": [
    {
     "name": "stdout",
     "output_type": "stream",
     "text": [
      "['Anthony D. McRae, 43, opened fire at Berkey Hall and the MSU union, according to local police. Following an intense manhunt in the area, he was found dead from a self-inflicted gunshot wound, police said.', 'Chunli Zhao, 67, suspected of carrying out the attacks at a mushroom farm and near a trucking facility, was apprehended by police. Zhao reportedly worked at the mushroom farm.', 'Huu Can Tran, 72,\\xa0fled the scene in a white van and later shot himself to death as police closed in.', 'Andre Bing, 31, who worked as a supervisor at the store, opened fire on co-workers and then fatally shot himself, according to local authorities.', 'Anderson L. Aldrich, 22, wore body armor and opened fire upon entering the club as a dance party was underway; he was subdued by unarmed patrons who tackled him amid the carnage and held him down until police arrived.']\n"
     ]
    }
   ],
   "source": [
    "# empty lists for case text\n",
    "list_cases_summary = []\n",
    "\n",
    "for case in df_cases_summary['summary']:\n",
    "    list_cases_summary.append(case)\n",
    "    \n",
    "print(list_cases_summary[:5])    "
   ]
  },
  {
   "cell_type": "code",
   "execution_count": 7,
   "id": "dad83994-4ec0-4da0-b251-c208628f65d8",
   "metadata": {},
   "outputs": [],
   "source": [
    "# tokenizing from pre-trained model\n",
    "tokenizer = AutoTokenizer.from_pretrained('sentence-transformers/all-MiniLM-L6-v2')\n",
    "\n",
    "# storing model\n",
    "model = AutoModel.from_pretrained('sentence-transformers/all-MiniLM-L6-v2')"
   ]
  },
  {
   "cell_type": "code",
   "execution_count": 8,
   "id": "8e570cd9-eb0c-4193-af0b-2067ec9a763b",
   "metadata": {},
   "outputs": [],
   "source": [
    "# empty dictionary for tokenized sentences\n",
    "tokens = {'input_ids': [], 'attention_mask': []}\n",
    "\n",
    "# looping through case summaries\n",
    "for text in list_cases_summary:\n",
    "    \n",
    "    # tokenizing text and appending to dictionary\n",
    "    new_tokens = tokenizer.encode_plus(\n",
    "        text,\n",
    "        max_length=100,\n",
    "        truncation=True,\n",
    "        padding='max_length',\n",
    "        return_tensors='pt')\n",
    "    \n",
    "    tokens['input_ids'].append(new_tokens['input_ids'][0])\n",
    "    tokens['attention_mask'].append(new_tokens['attention_mask'][0])\n",
    "    \n",
    "# reformatting to single tensor\n",
    "tokens['input_ids'] = torch.stack(tokens['input_ids'])\n",
    "tokens['attention_mask'] = torch.stack(tokens['attention_mask'])                                                                      "
   ]
  },
  {
   "cell_type": "code",
   "execution_count": 9,
   "id": "b323ae58-5b2e-4f2b-bd2b-a2bf9118df56",
   "metadata": {},
   "outputs": [
    {
     "data": {
      "text/plain": [
       "transformers.modeling_outputs.BaseModelOutputWithPoolingAndCrossAttentions"
      ]
     },
     "execution_count": 9,
     "metadata": {},
     "output_type": "execute_result"
    }
   ],
   "source": [
    "# running tokens through model\n",
    "model_outputs = model(**tokens)\n",
    "type(model_outputs)"
   ]
  },
  {
   "cell_type": "code",
   "execution_count": 10,
   "id": "c220c42b-b68f-48b7-a577-71d5cccc4f85",
   "metadata": {},
   "outputs": [
    {
     "data": {
      "text/plain": [
       "tensor([[[ 0.0626,  0.2279, -0.0783,  ..., -0.0746, -0.3474, -0.5830],\n",
       "         [-0.1216,  0.3103, -0.5912,  ..., -0.6785, -0.5178, -1.5699],\n",
       "         [-0.9428,  0.3043,  0.3378,  ..., -0.2616, -0.4112, -0.2871],\n",
       "         ...,\n",
       "         [-0.1356,  0.1915, -0.1093,  ..., -0.1365, -0.1776, -0.1400],\n",
       "         [-0.1325,  0.1970, -0.0926,  ..., -0.1461, -0.1710, -0.1646],\n",
       "         [-0.1018,  0.1579, -0.0858,  ..., -0.1707, -0.1438, -0.1899]],\n",
       "\n",
       "        [[ 0.2279,  0.2430,  0.0702,  ..., -0.2046, -0.2835, -0.1278],\n",
       "         [ 0.2710, -0.1799, -0.0650,  ...,  0.1422, -2.0253, -0.8202],\n",
       "         [-0.2051, -0.4086, -0.2413,  ..., -0.1062,  0.0648,  0.5318],\n",
       "         ...,\n",
       "         [-0.2075, -0.1459,  0.2435,  ...,  0.0043, -0.0589,  0.2288],\n",
       "         [-0.1920, -0.1383,  0.2663,  ..., -0.0045, -0.0507,  0.2099],\n",
       "         [-0.1567, -0.1624,  0.2872,  ..., -0.0299, -0.0425,  0.1851]],\n",
       "\n",
       "        [[ 0.0305,  0.1763, -0.3852,  ...,  0.4632, -0.4403, -0.0806],\n",
       "         [-0.4423,  0.4096,  0.0305,  ...,  0.8577, -0.8032,  1.9230],\n",
       "         [-0.5876,  0.3722, -0.5357,  ...,  0.8649,  0.1477, -0.3034],\n",
       "         ...,\n",
       "         [ 0.0423, -0.0765, -0.0882,  ...,  0.0584, -0.0886,  0.3615],\n",
       "         [ 0.0458, -0.0810, -0.0847,  ...,  0.0070, -0.0794,  0.3294],\n",
       "         [ 0.0733, -0.1105, -0.1068,  ..., -0.0348, -0.0600,  0.2918]],\n",
       "\n",
       "        ...,\n",
       "\n",
       "        [[-0.0514, -0.1631,  0.0970,  ...,  0.1333, -0.3599, -0.1267],\n",
       "         [-0.3884,  0.1864, -0.5376,  ..., -0.3593, -0.0198,  0.0778],\n",
       "         [ 0.3715,  0.4668, -0.5647,  ...,  0.6153,  0.3639, -1.0110],\n",
       "         ...,\n",
       "         [-0.0452,  0.0378,  0.0270,  ...,  0.1395, -0.2046,  0.1236],\n",
       "         [-0.0517,  0.0563,  0.0359,  ...,  0.1003, -0.1819,  0.0935],\n",
       "         [-0.0498,  0.0382,  0.0341,  ...,  0.0573, -0.1518,  0.0650]],\n",
       "\n",
       "        [[ 0.3042, -0.1551,  0.0022,  ..., -0.4038, -0.1514, -0.5149],\n",
       "         [-0.0597,  0.2347, -0.3149,  ..., -0.5491, -0.2764, -0.3908],\n",
       "         [-0.1262,  0.2598, -0.2291,  ..., -0.2640,  0.2025,  0.1848],\n",
       "         ...,\n",
       "         [ 0.1278,  0.0064, -0.0631,  ..., -0.2554, -0.1301, -0.0322],\n",
       "         [ 0.1155,  0.0126, -0.0625,  ..., -0.2830, -0.1201, -0.0522],\n",
       "         [ 0.1368, -0.0244, -0.0700,  ..., -0.3431, -0.0946, -0.0689]],\n",
       "\n",
       "        [[-0.2532,  0.1902, -0.3374,  ...,  0.0240, -0.5481, -0.0131],\n",
       "         [-0.2041,  0.2312, -0.2174,  ...,  0.1797, -0.0068,  0.0298],\n",
       "         [-0.2552,  0.1679, -0.0600,  ...,  0.1169, -0.5300,  0.3522],\n",
       "         ...,\n",
       "         [-0.0458,  0.0619, -0.2487,  ..., -0.1344, -0.1378,  0.1307],\n",
       "         [-0.0380,  0.0607, -0.2388,  ..., -0.1630, -0.1367,  0.1082],\n",
       "         [-0.0198,  0.0396, -0.2476,  ..., -0.2012, -0.1291,  0.0876]]],\n",
       "       grad_fn=<NativeLayerNormBackward0>)"
      ]
     },
     "execution_count": 10,
     "metadata": {},
     "output_type": "execute_result"
    }
   ],
   "source": [
    "# retriving last hidden state\n",
    "text_embeddings = model_outputs.last_hidden_state\n",
    "text_embeddings"
   ]
  },
  {
   "cell_type": "code",
   "execution_count": 11,
   "id": "ba806980-3cf0-43bb-87c0-8a90fd4ca426",
   "metadata": {},
   "outputs": [
    {
     "data": {
      "text/plain": [
       "torch.Size([140, 100, 384])"
      ]
     },
     "execution_count": 11,
     "metadata": {},
     "output_type": "execute_result"
    }
   ],
   "source": [
    "# displaying shape\n",
    "text_embeddings.shape"
   ]
  },
  {
   "cell_type": "code",
   "execution_count": 12,
   "id": "c693c2ab-f1e3-4f41-a8d7-c9754b96b083",
   "metadata": {},
   "outputs": [
    {
     "data": {
      "text/plain": [
       "torch.Size([140, 100])"
      ]
     },
     "execution_count": 12,
     "metadata": {},
     "output_type": "execute_result"
    }
   ],
   "source": [
    "# assigning attention mask\n",
    "attention_mask = tokens['attention_mask']\n",
    "attention_mask.shape"
   ]
  },
  {
   "cell_type": "code",
   "execution_count": 13,
   "id": "6a669c20-63fe-4f53-8698-f9de71935bf2",
   "metadata": {},
   "outputs": [
    {
     "data": {
      "text/plain": [
       "torch.Size([140, 100, 384])"
      ]
     },
     "execution_count": 13,
     "metadata": {},
     "output_type": "execute_result"
    }
   ],
   "source": [
    "# resizing attention mask\n",
    "mask = attention_mask.unsqueeze(-1).expand(text_embeddings.size()).float()\n",
    "mask.shape"
   ]
  },
  {
   "cell_type": "code",
   "execution_count": 14,
   "id": "4ce4d583-af8e-4f72-b88f-22f31cb10673",
   "metadata": {},
   "outputs": [
    {
     "name": "stdout",
     "output_type": "stream",
     "text": [
      "tensor([[[1., 1., 1.,  ..., 1., 1., 1.],\n",
      "         [1., 1., 1.,  ..., 1., 1., 1.],\n",
      "         [1., 1., 1.,  ..., 1., 1., 1.],\n",
      "         ...,\n",
      "         [0., 0., 0.,  ..., 0., 0., 0.],\n",
      "         [0., 0., 0.,  ..., 0., 0., 0.],\n",
      "         [0., 0., 0.,  ..., 0., 0., 0.]],\n",
      "\n",
      "        [[1., 1., 1.,  ..., 1., 1., 1.],\n",
      "         [1., 1., 1.,  ..., 1., 1., 1.],\n",
      "         [1., 1., 1.,  ..., 1., 1., 1.],\n",
      "         ...,\n",
      "         [0., 0., 0.,  ..., 0., 0., 0.],\n",
      "         [0., 0., 0.,  ..., 0., 0., 0.],\n",
      "         [0., 0., 0.,  ..., 0., 0., 0.]],\n",
      "\n",
      "        [[1., 1., 1.,  ..., 1., 1., 1.],\n",
      "         [1., 1., 1.,  ..., 1., 1., 1.],\n",
      "         [1., 1., 1.,  ..., 1., 1., 1.],\n",
      "         ...,\n",
      "         [0., 0., 0.,  ..., 0., 0., 0.],\n",
      "         [0., 0., 0.,  ..., 0., 0., 0.],\n",
      "         [0., 0., 0.,  ..., 0., 0., 0.]],\n",
      "\n",
      "        ...,\n",
      "\n",
      "        [[1., 1., 1.,  ..., 1., 1., 1.],\n",
      "         [1., 1., 1.,  ..., 1., 1., 1.],\n",
      "         [1., 1., 1.,  ..., 1., 1., 1.],\n",
      "         ...,\n",
      "         [0., 0., 0.,  ..., 0., 0., 0.],\n",
      "         [0., 0., 0.,  ..., 0., 0., 0.],\n",
      "         [0., 0., 0.,  ..., 0., 0., 0.]],\n",
      "\n",
      "        [[1., 1., 1.,  ..., 1., 1., 1.],\n",
      "         [1., 1., 1.,  ..., 1., 1., 1.],\n",
      "         [1., 1., 1.,  ..., 1., 1., 1.],\n",
      "         ...,\n",
      "         [0., 0., 0.,  ..., 0., 0., 0.],\n",
      "         [0., 0., 0.,  ..., 0., 0., 0.],\n",
      "         [0., 0., 0.,  ..., 0., 0., 0.]],\n",
      "\n",
      "        [[1., 1., 1.,  ..., 1., 1., 1.],\n",
      "         [1., 1., 1.,  ..., 1., 1., 1.],\n",
      "         [1., 1., 1.,  ..., 1., 1., 1.],\n",
      "         ...,\n",
      "         [0., 0., 0.,  ..., 0., 0., 0.],\n",
      "         [0., 0., 0.,  ..., 0., 0., 0.],\n",
      "         [0., 0., 0.,  ..., 0., 0., 0.]]])\n"
     ]
    }
   ],
   "source": [
    "print(mask)"
   ]
  },
  {
   "cell_type": "code",
   "execution_count": 15,
   "id": "102218d1-f872-49b9-9eeb-05d44e2dc5bd",
   "metadata": {},
   "outputs": [
    {
     "data": {
      "text/plain": [
       "torch.Size([140, 100, 384])"
      ]
     },
     "execution_count": 15,
     "metadata": {},
     "output_type": "execute_result"
    }
   ],
   "source": [
    "# Multiplying tensors to apply attention mask\n",
    "masked_embeddings = text_embeddings * mask\n",
    "masked_embeddings.shape"
   ]
  },
  {
   "cell_type": "code",
   "execution_count": 16,
   "id": "2fdfc197-ca36-4025-a906-747e927c21c1",
   "metadata": {},
   "outputs": [
    {
     "name": "stdout",
     "output_type": "stream",
     "text": [
      "tensor([[[ 0.0626,  0.2279, -0.0783,  ..., -0.0746, -0.3474, -0.5830],\n",
      "         [-0.1216,  0.3103, -0.5912,  ..., -0.6785, -0.5178, -1.5699],\n",
      "         [-0.9428,  0.3043,  0.3378,  ..., -0.2616, -0.4112, -0.2871],\n",
      "         ...,\n",
      "         [-0.0000,  0.0000, -0.0000,  ..., -0.0000, -0.0000, -0.0000],\n",
      "         [-0.0000,  0.0000, -0.0000,  ..., -0.0000, -0.0000, -0.0000],\n",
      "         [-0.0000,  0.0000, -0.0000,  ..., -0.0000, -0.0000, -0.0000]],\n",
      "\n",
      "        [[ 0.2279,  0.2430,  0.0702,  ..., -0.2046, -0.2835, -0.1278],\n",
      "         [ 0.2710, -0.1799, -0.0650,  ...,  0.1422, -2.0253, -0.8202],\n",
      "         [-0.2051, -0.4086, -0.2413,  ..., -0.1062,  0.0648,  0.5318],\n",
      "         ...,\n",
      "         [-0.0000, -0.0000,  0.0000,  ...,  0.0000, -0.0000,  0.0000],\n",
      "         [-0.0000, -0.0000,  0.0000,  ..., -0.0000, -0.0000,  0.0000],\n",
      "         [-0.0000, -0.0000,  0.0000,  ..., -0.0000, -0.0000,  0.0000]],\n",
      "\n",
      "        [[ 0.0305,  0.1763, -0.3852,  ...,  0.4632, -0.4403, -0.0806],\n",
      "         [-0.4423,  0.4096,  0.0305,  ...,  0.8577, -0.8032,  1.9230],\n",
      "         [-0.5876,  0.3722, -0.5357,  ...,  0.8649,  0.1477, -0.3034],\n",
      "         ...,\n",
      "         [ 0.0000, -0.0000, -0.0000,  ...,  0.0000, -0.0000,  0.0000],\n",
      "         [ 0.0000, -0.0000, -0.0000,  ...,  0.0000, -0.0000,  0.0000],\n",
      "         [ 0.0000, -0.0000, -0.0000,  ..., -0.0000, -0.0000,  0.0000]],\n",
      "\n",
      "        ...,\n",
      "\n",
      "        [[-0.0514, -0.1631,  0.0970,  ...,  0.1333, -0.3599, -0.1267],\n",
      "         [-0.3884,  0.1864, -0.5376,  ..., -0.3593, -0.0198,  0.0778],\n",
      "         [ 0.3715,  0.4668, -0.5647,  ...,  0.6153,  0.3639, -1.0110],\n",
      "         ...,\n",
      "         [-0.0000,  0.0000,  0.0000,  ...,  0.0000, -0.0000,  0.0000],\n",
      "         [-0.0000,  0.0000,  0.0000,  ...,  0.0000, -0.0000,  0.0000],\n",
      "         [-0.0000,  0.0000,  0.0000,  ...,  0.0000, -0.0000,  0.0000]],\n",
      "\n",
      "        [[ 0.3042, -0.1551,  0.0022,  ..., -0.4038, -0.1514, -0.5149],\n",
      "         [-0.0597,  0.2347, -0.3149,  ..., -0.5491, -0.2764, -0.3908],\n",
      "         [-0.1262,  0.2598, -0.2291,  ..., -0.2640,  0.2025,  0.1848],\n",
      "         ...,\n",
      "         [ 0.0000,  0.0000, -0.0000,  ..., -0.0000, -0.0000, -0.0000],\n",
      "         [ 0.0000,  0.0000, -0.0000,  ..., -0.0000, -0.0000, -0.0000],\n",
      "         [ 0.0000, -0.0000, -0.0000,  ..., -0.0000, -0.0000, -0.0000]],\n",
      "\n",
      "        [[-0.2532,  0.1902, -0.3374,  ...,  0.0240, -0.5481, -0.0131],\n",
      "         [-0.2041,  0.2312, -0.2174,  ...,  0.1797, -0.0068,  0.0298],\n",
      "         [-0.2552,  0.1679, -0.0600,  ...,  0.1169, -0.5300,  0.3522],\n",
      "         ...,\n",
      "         [-0.0000,  0.0000, -0.0000,  ..., -0.0000, -0.0000,  0.0000],\n",
      "         [-0.0000,  0.0000, -0.0000,  ..., -0.0000, -0.0000,  0.0000],\n",
      "         [-0.0000,  0.0000, -0.0000,  ..., -0.0000, -0.0000,  0.0000]]],\n",
      "       grad_fn=<MulBackward0>)\n"
     ]
    }
   ],
   "source": [
    "print(masked_embeddings)"
   ]
  },
  {
   "cell_type": "code",
   "execution_count": 17,
   "id": "ff64e317-1170-4fea-b7fe-b726556898bd",
   "metadata": {},
   "outputs": [
    {
     "data": {
      "text/plain": [
       "torch.Size([140, 384])"
      ]
     },
     "execution_count": 17,
     "metadata": {},
     "output_type": "execute_result"
    }
   ],
   "source": [
    "# summing embedding remainder\n",
    "summed_embeddings = torch.sum(masked_embeddings, 1) # axis 1\n",
    "summed_embeddings.shape"
   ]
  },
  {
   "cell_type": "code",
   "execution_count": 18,
   "id": "a1162bbb-23ba-4eb5-b3c7-3b272886f514",
   "metadata": {},
   "outputs": [
    {
     "data": {
      "text/plain": [
       "torch.Size([140, 384])"
      ]
     },
     "execution_count": 18,
     "metadata": {},
     "output_type": "execute_result"
    }
   ],
   "source": [
    "# summing values that will be given attention\n",
    "summed_mask = torch.clamp(mask.sum(1), min=1e-9)\n",
    "summed_mask.shape"
   ]
  },
  {
   "cell_type": "code",
   "execution_count": 19,
   "id": "456da232-1c23-4a34-ae27-cd1f976cf54a",
   "metadata": {},
   "outputs": [
    {
     "name": "stdout",
     "output_type": "stream",
     "text": [
      "tensor([[53., 53., 53.,  ..., 53., 53., 53.],\n",
      "        [41., 41., 41.,  ..., 41., 41., 41.],\n",
      "        [27., 27., 27.,  ..., 27., 27., 27.],\n",
      "        ...,\n",
      "        [27., 27., 27.,  ..., 27., 27., 27.],\n",
      "        [31., 31., 31.,  ..., 31., 31., 31.],\n",
      "        [32., 32., 32.,  ..., 32., 32., 32.]])\n"
     ]
    }
   ],
   "source": [
    "print(summed_mask)"
   ]
  },
  {
   "cell_type": "code",
   "execution_count": 20,
   "id": "89212f25-b2c5-40c8-a007-d7dacfa5a91c",
   "metadata": {},
   "outputs": [
    {
     "name": "stdout",
     "output_type": "stream",
     "text": [
      "tensor([[ 0.0747,  0.1777, -0.1114,  ..., -0.1926, -0.1617, -0.1582],\n",
      "        [-0.0963,  0.1076,  0.0373,  ..., -0.0981, -0.1569,  0.1062],\n",
      "        [ 0.0174,  0.3368, -0.4481,  ...,  0.3432, -0.1583,  0.0934],\n",
      "        ...,\n",
      "        [ 0.0372,  0.1361, -0.1849,  ...,  0.0863,  0.0880, -0.0638],\n",
      "        [ 0.2252,  0.1714, -0.2246,  ..., -0.2780, -0.0119, -0.1841],\n",
      "        [-0.0882,  0.2136, -0.4408,  ...,  0.0027, -0.3168,  0.0586]],\n",
      "       grad_fn=<DivBackward0>)\n"
     ]
    }
   ],
   "source": [
    "# calculating dense vectors (sum embedding / # of values given attention)\n",
    "mean_pooled = summed_embeddings/ summed_mask\n",
    "print(mean_pooled)"
   ]
  },
  {
   "cell_type": "code",
   "execution_count": 21,
   "id": "110e3399-31de-4058-af4b-2a5772c501cc",
   "metadata": {
    "tags": []
   },
   "outputs": [],
   "source": [
    "# storing case names as a list\n",
    "list_cases = df_cases['case'].tolist()\n",
    "\n",
    "# converting mean pooled to NumPy array\n",
    "mean_pooled = mean_pooled.detach().numpy()"
   ]
  },
  {
   "cell_type": "code",
   "execution_count": 22,
   "id": "c407d9ec-d03e-47ff-b9dc-b1faa04a042d",
   "metadata": {},
   "outputs": [],
   "source": [
    "# creating function to return case names and vector combinations\n",
    "def list_combinations(x, y):\n",
    "    case_combinations = list(combinations(x, 2))\n",
    "    vector_combinations = list(combinations(y, 2))\n",
    "    return case_combinations, vector_combinations"
   ]
  },
  {
   "cell_type": "code",
   "execution_count": 23,
   "id": "450e1b1a-4094-48cb-9746-8c5ad855dcc5",
   "metadata": {
    "collapsed": true,
    "jupyter": {
     "outputs_hidden": true
    },
    "tags": []
   },
   "outputs": [
    {
     "name": "stdout",
     "output_type": "stream",
     "text": [
      "('Michigan State University shooting', 'Half Moon Bay spree shooting') (array([ 7.47392774e-02,  1.77651465e-01, -1.11362457e-01,  1.57698557e-01,\n",
      "        1.38210133e-01,  6.33460656e-02,  4.22190391e-02, -1.34048029e-03,\n",
      "       -1.81915611e-01,  2.45709777e-01,  1.29961437e-02,  2.10031923e-02,\n",
      "       -9.02394727e-02,  2.20664442e-01,  8.66822302e-02, -3.42523269e-02,\n",
      "       -2.28874326e-01,  7.44825825e-02, -1.11496069e-01, -8.14281404e-02,\n",
      "       -9.95013397e-03,  2.23477870e-01, -1.58526659e-01, -6.24246523e-02,\n",
      "        1.56078739e-02, -1.87496990e-02,  5.63595220e-02, -1.09594157e-02,\n",
      "       -1.50498509e-01, -7.14748427e-02,  8.75643268e-02, -2.81634629e-01,\n",
      "       -7.87040964e-02,  4.19440754e-02,  2.86191314e-01,  1.93254054e-02,\n",
      "        1.83150053e-01,  2.71915048e-01, -9.94178578e-02, -4.07547243e-02,\n",
      "       -2.13996351e-01,  1.58732146e-01,  3.07464480e-01,  2.29178712e-01,\n",
      "       -1.07297339e-01,  4.13783379e-02, -1.68944821e-01, -1.50620982e-01,\n",
      "        1.86852425e-01,  1.97431892e-01, -9.35682356e-02,  1.62627935e-01,\n",
      "        4.77487668e-02, -1.34980410e-01,  1.80112779e-01, -5.35867661e-02,\n",
      "        1.33586809e-01,  2.70946287e-02, -9.56995115e-02, -2.55731165e-01,\n",
      "        1.36773646e-01, -1.35715246e-01, -3.49507667e-02,  1.01749465e-01,\n",
      "       -6.20635338e-02,  2.25116033e-02,  2.34154668e-02, -2.52418309e-01,\n",
      "        3.60916853e-01, -1.49119854e-01,  4.71914321e-01, -1.58119395e-01,\n",
      "       -6.40344471e-02, -4.19833899e-01, -3.13463584e-02,  2.15165421e-01,\n",
      "        2.10019127e-01, -1.31165422e-02,  9.90049690e-02,  1.89515144e-01,\n",
      "        8.94088671e-02, -2.45751277e-01, -1.13783434e-01, -2.42020767e-02,\n",
      "        1.07709095e-01,  2.24143341e-01, -8.59128218e-03, -1.11453593e-01,\n",
      "       -5.59970178e-02,  1.59479216e-01,  7.72767588e-02,  1.47873566e-01,\n",
      "       -1.73283651e-01, -8.22364315e-02,  3.89060915e-01, -1.18757308e-01,\n",
      "       -1.09806538e-01,  1.81630149e-01, -2.51764864e-01,  1.69989794e-01,\n",
      "       -1.65233597e-01, -7.40579367e-02, -2.66867161e-01,  5.83509356e-02,\n",
      "        1.76383123e-01,  8.75665918e-02,  2.81468481e-02,  1.50079936e-01,\n",
      "       -6.17358163e-02, -2.68918313e-02,  5.56968972e-02, -1.14360422e-01,\n",
      "       -2.21785195e-02,  1.87573936e-02,  3.86983693e-01,  1.48089677e-01,\n",
      "       -1.13428161e-02,  1.29348531e-01, -1.78066511e-02, -7.51411766e-02,\n",
      "        2.15866305e-02,  8.05133432e-02, -1.95733532e-01,  1.50550604e-01,\n",
      "       -1.57814056e-01,  2.38995969e-01, -1.29513936e-02, -4.30511765e-33,\n",
      "        1.37495160e-01,  8.79950970e-02,  1.03229292e-01,  7.27027934e-03,\n",
      "        2.13174239e-01, -1.50789455e-01,  1.17036745e-01, -1.62221149e-01,\n",
      "        1.07929587e-01,  6.38525859e-02, -5.41413240e-02,  2.43579224e-02,\n",
      "       -6.33443967e-02, -2.51772642e-01, -1.85068667e-01,  2.39931382e-02,\n",
      "        7.08485618e-02, -1.95168108e-02, -1.91705734e-01, -2.60589242e-01,\n",
      "       -1.17313609e-01,  1.75126508e-01, -2.74178199e-02,  6.73697740e-02,\n",
      "       -5.56280687e-02,  1.53706178e-01, -6.03258610e-02,  6.61545396e-02,\n",
      "        1.57596797e-01,  6.01956248e-02, -3.39098096e-01, -2.04160195e-02,\n",
      "        1.64479874e-02, -3.33557613e-02, -8.35710764e-02, -9.68520865e-02,\n",
      "       -1.43536821e-01, -1.34654224e-01, -2.97291309e-01, -4.70888652e-02,\n",
      "       -7.55447149e-02,  8.19598138e-02,  7.02813417e-02, -3.98795344e-02,\n",
      "       -2.53094345e-01, -2.66994059e-01, -1.92582145e-01,  6.60519078e-02,\n",
      "        8.94003287e-02, -5.60411587e-02,  7.27037564e-02,  5.38636073e-02,\n",
      "       -3.98390554e-02, -4.24589850e-02, -8.70612264e-02,  1.04372017e-01,\n",
      "       -1.36321604e-01,  1.33793190e-01,  4.27545726e-01,  1.08090043e-01,\n",
      "        2.68828124e-01,  2.63460785e-01,  8.81431177e-02,  8.69783312e-02,\n",
      "       -6.13066852e-02, -3.65445405e-01,  2.51272395e-02, -6.08526617e-02,\n",
      "        1.54416695e-01, -1.05587900e-01,  1.59822538e-01, -3.87546094e-03,\n",
      "       -5.05049415e-02, -3.08736145e-01, -1.27133131e-01,  8.51580352e-02,\n",
      "       -1.73081398e-01,  3.64454165e-02, -1.22756511e-01, -7.65798613e-02,\n",
      "        2.17940226e-01, -3.70652005e-02,  9.04073287e-03,  1.38091862e-01,\n",
      "        4.00944017e-02,  4.24318016e-02, -1.76607221e-01, -2.03102231e-01,\n",
      "        1.34214684e-02,  3.48170131e-01, -1.54950783e-01, -7.78349563e-02,\n",
      "        4.60931323e-02,  1.17372259e-01, -2.14144275e-01, -5.67663074e-34,\n",
      "       -8.02527815e-02, -3.28464359e-02,  4.62665744e-02,  9.65985954e-02,\n",
      "       -1.53697178e-01, -1.68251202e-01, -1.39010787e-01, -6.16587251e-02,\n",
      "        1.47773191e-01, -9.80238840e-02,  1.97860952e-02,  8.62869695e-02,\n",
      "        1.59815550e-01,  6.62126169e-02, -4.81321961e-02,  1.31073549e-01,\n",
      "        3.37453723e-01,  1.48613006e-01, -8.43544081e-02,  8.93499702e-02,\n",
      "        1.10002354e-01, -1.73838399e-02, -1.17241733e-01,  1.68723613e-02,\n",
      "       -5.48807792e-02,  1.53121546e-01,  4.85995598e-02,  8.37863795e-03,\n",
      "       -2.52464831e-01, -2.47709528e-01,  2.43471473e-01,  1.41682103e-01,\n",
      "       -5.56587167e-02,  1.00404479e-01,  6.60699233e-02,  1.93214074e-01,\n",
      "        1.84886351e-01,  1.16567209e-01,  1.06815562e-01, -3.49675044e-02,\n",
      "        1.81603640e-01,  3.06087464e-01,  4.93631884e-02,  3.23968530e-01,\n",
      "        1.10564772e-02, -1.78103074e-01,  1.14321411e-01,  1.15553960e-01,\n",
      "        1.65071115e-01,  7.88931027e-02, -4.11271632e-01, -2.85408199e-01,\n",
      "       -7.88274780e-02,  1.07743450e-01,  6.48945197e-02,  1.61184669e-01,\n",
      "       -1.24586467e-03,  6.64727017e-03, -1.59536868e-01,  8.13410059e-02,\n",
      "       -1.14333078e-01, -1.37066722e-01, -1.14042602e-01,  2.15803776e-02,\n",
      "        1.29329890e-01, -4.38790992e-02, -1.20238625e-01, -1.96880549e-01,\n",
      "       -2.54260987e-01, -2.34414153e-02,  1.47613332e-01, -8.67244154e-02,\n",
      "       -1.45152807e-01,  1.99513137e-02, -2.65107721e-01,  7.13899881e-02,\n",
      "       -1.41599938e-01,  8.02063197e-02, -4.34403643e-02,  9.52186584e-02,\n",
      "       -8.48727126e-04, -1.19572505e-01, -3.16478491e-01,  1.94279939e-01,\n",
      "        7.24521652e-02, -1.59139305e-01,  3.34180415e-01, -3.99072468e-03,\n",
      "        9.64130312e-02, -1.62215814e-01, -2.67882138e-01, -3.87235209e-02,\n",
      "        1.69581592e-01, -1.07049249e-01, -7.24868774e-02, -9.88030138e-08,\n",
      "       -4.35492694e-02, -4.92658205e-02, -6.63964376e-02, -3.42176184e-02,\n",
      "       -4.39100526e-02,  8.72869343e-02,  1.06536210e-01,  1.76874194e-02,\n",
      "       -3.17170992e-02,  2.92477310e-02, -1.47489384e-01, -9.96778086e-02,\n",
      "        1.22188805e-02, -5.65551594e-02, -3.54986079e-03, -3.95191424e-02,\n",
      "       -4.86583300e-02, -1.64352208e-01,  6.58455770e-03, -2.22492293e-01,\n",
      "       -9.49456096e-02, -6.25347942e-02,  4.35064547e-02, -7.01664314e-02,\n",
      "       -1.37312561e-01,  2.34541863e-01,  6.94251209e-02, -7.67831430e-02,\n",
      "       -1.31328225e-01,  1.59558535e-01, -9.29536745e-02,  1.24638543e-01,\n",
      "       -1.39914036e-01,  9.98462271e-03, -1.74051106e-01, -6.83926092e-03,\n",
      "        4.06209916e-01,  1.76873952e-01, -9.43128690e-02, -2.54166216e-01,\n",
      "       -8.65785331e-02, -3.89396921e-02,  3.56638357e-02, -2.51533911e-02,\n",
      "       -1.58222578e-02,  2.63372785e-03, -2.27659605e-02,  1.48375854e-01,\n",
      "       -2.49139681e-01,  2.70458478e-02,  6.03725612e-02,  5.70533425e-02,\n",
      "       -1.02415778e-01,  1.93086118e-01,  1.81089476e-01, -2.55675018e-01,\n",
      "        1.92483783e-01,  1.01443809e-02,  1.13624539e-02, -1.29429534e-01,\n",
      "        3.78121808e-02, -1.92612574e-01, -1.61717013e-01, -1.58151165e-01],\n",
      "      dtype=float32), array([-9.62726101e-02,  1.07643060e-01,  3.72934528e-02,  1.15594305e-01,\n",
      "        3.05668473e-01, -6.81959838e-02,  3.72357070e-01, -1.74843237e-01,\n",
      "       -1.92904472e-02,  6.92273602e-02,  5.02831399e-01, -1.00779556e-01,\n",
      "        2.46363014e-01, -1.11571804e-01, -1.14818007e-01, -1.18962966e-01,\n",
      "        1.26475304e-01,  7.73427412e-02, -2.17994809e-01, -2.74617732e-01,\n",
      "       -2.54554480e-01,  2.89031900e-02,  1.07671060e-01, -1.36063024e-01,\n",
      "       -2.66310126e-02,  1.84919813e-03,  2.66743321e-02,  1.29163370e-01,\n",
      "        1.34729400e-01, -1.15596727e-01, -1.54910898e-02,  1.47903383e-01,\n",
      "       -1.67478412e-01,  1.47940308e-01, -2.63912156e-02,  2.39800625e-02,\n",
      "        3.14013243e-01,  5.84879629e-02,  1.15754567e-01, -1.07127331e-01,\n",
      "        1.50660768e-01, -1.80594221e-01,  4.07063365e-01, -1.87911436e-01,\n",
      "       -1.74620748e-01,  3.96156497e-02,  4.42524068e-02, -2.43223220e-01,\n",
      "        1.97663844e-01, -2.06955001e-01,  1.17674522e-01, -3.29720043e-02,\n",
      "        2.54517913e-01,  1.06487878e-01,  6.74386173e-02, -1.73250496e-01,\n",
      "        7.34703168e-02, -2.85967682e-02,  2.28964269e-01,  2.12457046e-01,\n",
      "       -5.49674965e-02,  7.71485865e-02, -3.23451534e-02,  4.44253199e-02,\n",
      "       -1.17304735e-01, -1.01425961e-01, -1.16161164e-02, -2.23143756e-01,\n",
      "        2.00747982e-01, -5.26350811e-02,  1.90888733e-01,  5.25734350e-02,\n",
      "       -1.01991430e-01, -9.62552279e-02, -1.10376939e-01,  7.63303041e-02,\n",
      "        2.11209990e-02, -1.34414494e-01,  7.81544670e-02, -2.79790699e-01,\n",
      "       -9.15810815e-05, -8.11930075e-02,  6.92778081e-02,  2.27762833e-01,\n",
      "       -2.73116101e-02,  1.94739327e-01, -7.82416388e-02,  2.17205554e-01,\n",
      "        1.85383424e-01,  4.58155461e-02,  3.62696052e-02,  2.10192591e-01,\n",
      "       -6.12209439e-02,  1.71192139e-01,  8.56731310e-02, -6.97554573e-02,\n",
      "        5.95276803e-03,  2.70890385e-01, -2.61356205e-01,  9.30066332e-02,\n",
      "       -6.99959546e-02,  2.31497526e-01, -2.95007899e-02, -3.09956014e-01,\n",
      "       -1.52125403e-01, -1.02392361e-01, -1.94466665e-01, -4.34905812e-02,\n",
      "       -4.11342308e-02,  3.18882279e-02, -1.47282202e-02, -1.70489386e-01,\n",
      "       -1.29315555e-01,  6.30323812e-02,  2.68941402e-01, -4.50108126e-02,\n",
      "        5.35520501e-02,  1.26615733e-01, -5.74464500e-01, -1.48561567e-01,\n",
      "        1.83445975e-01,  1.47652447e-01, -2.62394845e-01, -1.50652195e-03,\n",
      "        7.58129358e-02,  8.78882483e-02,  1.24542927e-03, -7.17717839e-33,\n",
      "        7.98885301e-02,  1.10713713e-01, -1.36320487e-01,  4.10121083e-02,\n",
      "        2.69734532e-01, -8.18879455e-02, -6.16375869e-03,  2.59532151e-03,\n",
      "        4.13192324e-02,  3.43056440e-01, -1.22632295e-01, -5.30521385e-03,\n",
      "       -2.15079024e-01, -1.71341926e-01,  1.07850008e-01,  2.73236930e-01,\n",
      "        1.12887010e-01, -1.23119235e-01, -5.54731414e-02,  3.53697874e-02,\n",
      "        2.09121376e-01, -1.29753932e-01, -1.59151375e-01,  6.68824092e-02,\n",
      "        9.30980965e-02,  1.42550200e-01, -2.26938371e-02, -2.48004198e-02,\n",
      "        2.14766011e-01,  6.88925013e-02, -3.40532921e-02,  3.72700579e-02,\n",
      "        5.40493876e-02,  1.42703772e-01,  1.63757950e-01,  5.07119000e-02,\n",
      "        1.18881516e-01, -7.35290051e-02, -1.94324359e-01, -6.69542253e-02,\n",
      "        1.99945122e-01,  9.77308899e-02, -7.16347806e-03, -1.67720452e-01,\n",
      "       -2.04524994e-01, -1.88692752e-02, -2.22790793e-01, -1.23347118e-01,\n",
      "        3.26410234e-01, -7.77238011e-02,  3.65712233e-02,  1.39831565e-02,\n",
      "        1.21876366e-01, -5.55296987e-02,  8.59644562e-02, -3.55213159e-03,\n",
      "       -2.62513310e-01, -3.52272652e-02,  1.64261997e-01,  2.75439620e-01,\n",
      "        8.57625231e-02,  6.75061494e-02, -4.03594285e-01,  2.92840689e-01,\n",
      "       -5.88440262e-02, -4.39443767e-01, -1.00781590e-01, -9.41151530e-02,\n",
      "       -1.55725926e-01,  5.32741100e-02, -9.28634927e-02,  5.63123524e-02,\n",
      "        6.91405032e-03, -1.57077506e-01, -2.24830166e-01, -1.92617342e-01,\n",
      "       -4.58453953e-01, -6.43636212e-02, -1.82888240e-01,  9.74015296e-02,\n",
      "        6.56432658e-03, -1.47048041e-01, -3.11273374e-02,  3.30291063e-01,\n",
      "       -1.65572584e-01,  1.59621418e-01, -1.50473937e-01,  9.85824391e-02,\n",
      "        7.36954734e-02,  1.10209957e-01, -2.23378181e-01, -1.41510993e-01,\n",
      "        2.48951074e-02, -4.27027494e-02, -2.99706906e-01, -1.45044725e-33,\n",
      "       -1.77852765e-01,  1.45245045e-01, -3.56822126e-02, -8.02866090e-03,\n",
      "        1.88427642e-01, -7.80306458e-02, -1.78265176e-03,  9.42289550e-03,\n",
      "        1.33588389e-01, -1.63686499e-01, -1.98357821e-01,  7.85563365e-02,\n",
      "        1.05206430e-01, -8.15644264e-02,  2.01284692e-01,  4.29398566e-02,\n",
      "        2.21876025e-01,  1.57962292e-01, -1.01897776e-01, -6.70916736e-02,\n",
      "       -1.41248286e-01, -9.22700688e-02,  4.52023260e-02, -6.25049099e-02,\n",
      "        1.25460446e-01,  3.06477606e-01,  4.20070469e-01,  7.01490119e-02,\n",
      "       -3.24812084e-01,  1.85898319e-01, -9.99138728e-02, -8.16306286e-03,\n",
      "        2.15255037e-01,  1.12461694e-01, -2.20490992e-01,  6.44281954e-02,\n",
      "        8.46056640e-02, -4.20731716e-02,  7.36956745e-02, -3.57868582e-01,\n",
      "       -6.77088392e-04,  6.79207891e-02, -3.40181477e-02,  2.28667751e-01,\n",
      "       -1.06458083e-01, -9.03525576e-02,  2.26968359e-02,  2.94712156e-01,\n",
      "       -1.06927911e-02, -1.19752631e-01,  1.20629534e-01,  2.06065893e-01,\n",
      "        9.40378457e-02, -9.42440853e-02, -1.22600226e-02,  7.93897137e-02,\n",
      "       -1.16194949e-01, -2.21462712e-01,  1.88269317e-01, -2.61373430e-01,\n",
      "       -1.91513941e-01,  8.65198523e-02, -5.27786463e-02,  2.19421208e-01,\n",
      "       -7.93545395e-02,  1.64568484e-01,  7.08622560e-02, -5.83719872e-02,\n",
      "        1.46135176e-03, -2.23938495e-01,  1.21752352e-01,  3.10992673e-02,\n",
      "        1.73554271e-02,  2.57500797e-03, -7.91890770e-02, -1.28710136e-01,\n",
      "       -3.47340316e-01,  8.92926753e-02, -2.05964968e-02,  9.23286676e-02,\n",
      "        4.75136563e-02, -1.86134949e-01, -1.24366179e-01, -1.50196627e-01,\n",
      "        1.25883371e-01,  6.08854406e-02,  5.32915182e-02,  8.66767839e-02,\n",
      "        1.72616452e-01, -4.47019160e-01, -1.14333807e-02, -2.42252722e-01,\n",
      "        6.24511652e-02,  7.05712512e-02, -5.00031561e-02, -9.96612073e-08,\n",
      "       -8.21161047e-02, -1.39836278e-02, -2.64741350e-02, -2.27493778e-01,\n",
      "       -4.45743613e-02,  1.32507429e-01,  3.59789990e-02,  2.42276073e-01,\n",
      "        5.43130562e-02, -2.88689490e-02,  3.07144430e-02,  2.55540814e-02,\n",
      "        1.29585922e-01,  8.63457173e-02, -3.00783552e-02, -1.14863351e-01,\n",
      "        1.39841080e-01, -1.15784980e-01, -2.91460693e-01, -2.43697956e-01,\n",
      "       -1.06416613e-01, -4.37516719e-03, -3.28334533e-02,  3.77468653e-02,\n",
      "       -3.08248568e-02,  1.10452265e-01, -3.00335914e-01, -4.24495749e-02,\n",
      "       -7.72985443e-03,  8.85532871e-02, -2.41734684e-01, -4.03508395e-02,\n",
      "       -1.49047077e-01,  1.48721468e-02,  1.48306251e-01,  1.73883498e-01,\n",
      "        4.27908786e-02, -7.30153322e-02,  1.73744276e-01, -2.23576754e-01,\n",
      "       -1.04643136e-01, -2.22379267e-01,  1.45245001e-01,  1.07413746e-01,\n",
      "       -2.79731974e-02,  4.95533720e-02,  2.78907153e-03, -1.91333935e-01,\n",
      "        1.45933032e-01, -2.56958101e-02,  1.50364265e-01, -5.75376265e-02,\n",
      "        1.55547947e-01,  1.04085505e-01, -1.47610158e-01,  3.06325536e-02,\n",
      "        7.37545043e-02, -2.51104176e-01, -1.93155959e-01, -8.54967311e-02,\n",
      "       -9.22626778e-02, -9.81252491e-02, -1.56884894e-01,  1.06184334e-01],\n",
      "      dtype=float32))\n"
     ]
    }
   ],
   "source": [
    "# assigning case and vector combinations\n",
    "case_combinations, vector_combinations = list_combinations(list_cases, mean_pooled)\n",
    "print(case_combinations[0], vector_combinations[0])"
   ]
  },
  {
   "cell_type": "code",
   "execution_count": 27,
   "id": "9614ba96-61a4-45f9-ab8b-66684d26da68",
   "metadata": {},
   "outputs": [],
   "source": [
    "# creating to return dataframe with cases and similarity\n",
    "def text_cosine_similarity(text, vectors):\n",
    "    # creating empty lists to store cases and scores\n",
    "    list_case_1 = []\n",
    "    list_case_2 = []\n",
    "    list_similarity = []\n",
    "\n",
    "    # looping through case and vector combinations\n",
    "    for i, j in zip(text, vectors):\n",
    "        # append cases\n",
    "        list_case_1.append(i[0])\n",
    "        list_case_2.append(i[1])\n",
    "        \n",
    "        # append similarity score\n",
    "        similarity_score = round(cosine_similarity([j[0]], j[1:])[0][0], 4)\n",
    "        list_similarity.append(similarity_score)\n",
    "        \n",
    "    # creating dictionary from lists\n",
    "    dict_cases = {'case_1': list_case_1, \n",
    "                  'case_2': list_case_2,\n",
    "                  'similarity_score': list_similarity}\n",
    "    \n",
    "    # creating pandas dataframe from dictionary\n",
    "    df = pd.DataFrame(dict_cases)\n",
    "    return df"
   ]
  },
  {
   "cell_type": "code",
   "execution_count": 28,
   "id": "b2c1892b-cad7-4184-a42d-69b7eed461c4",
   "metadata": {},
   "outputs": [
    {
     "data": {
      "text/html": [
       "<div>\n",
       "<style scoped>\n",
       "    .dataframe tbody tr th:only-of-type {\n",
       "        vertical-align: middle;\n",
       "    }\n",
       "\n",
       "    .dataframe tbody tr th {\n",
       "        vertical-align: top;\n",
       "    }\n",
       "\n",
       "    .dataframe thead th {\n",
       "        text-align: right;\n",
       "    }\n",
       "</style>\n",
       "<table border=\"1\" class=\"dataframe\">\n",
       "  <thead>\n",
       "    <tr style=\"text-align: right;\">\n",
       "      <th></th>\n",
       "      <th>case_1</th>\n",
       "      <th>case_2</th>\n",
       "      <th>similarity_score</th>\n",
       "    </tr>\n",
       "  </thead>\n",
       "  <tbody>\n",
       "    <tr>\n",
       "      <th>5928</th>\n",
       "      <td>Florida awning manufacturer shooting</td>\n",
       "      <td>Accent Signage Systems shooting</td>\n",
       "      <td>0.7191</td>\n",
       "    </tr>\n",
       "    <tr>\n",
       "      <th>4096</th>\n",
       "      <td>Mercy Hospital shooting</td>\n",
       "      <td>Fort Hood shooting 2</td>\n",
       "      <td>0.6991</td>\n",
       "    </tr>\n",
       "    <tr>\n",
       "      <th>3101</th>\n",
       "      <td>Pensacola Naval base shooting</td>\n",
       "      <td>Chattanooga military recruitment center</td>\n",
       "      <td>0.6913</td>\n",
       "    </tr>\n",
       "    <tr>\n",
       "      <th>3129</th>\n",
       "      <td>Pensacola Naval base shooting</td>\n",
       "      <td>Northern Illinois University shooting</td>\n",
       "      <td>0.6691</td>\n",
       "    </tr>\n",
       "    <tr>\n",
       "      <th>2447</th>\n",
       "      <td>Orange office complex shooting</td>\n",
       "      <td>Caltrans maintenance yard shooting</td>\n",
       "      <td>0.6613</td>\n",
       "    </tr>\n",
       "    <tr>\n",
       "      <th>7952</th>\n",
       "      <td>Accent Signage Systems shooting</td>\n",
       "      <td>Standard Gravure shooting</td>\n",
       "      <td>0.6610</td>\n",
       "    </tr>\n",
       "    <tr>\n",
       "      <th>527</th>\n",
       "      <td>Virginia Walmart shooting</td>\n",
       "      <td>Caltrans maintenance yard shooting</td>\n",
       "      <td>0.6573</td>\n",
       "    </tr>\n",
       "    <tr>\n",
       "      <th>4062</th>\n",
       "      <td>Mercy Hospital shooting</td>\n",
       "      <td>T&amp;T Trucking shooting</td>\n",
       "      <td>0.6560</td>\n",
       "    </tr>\n",
       "    <tr>\n",
       "      <th>5942</th>\n",
       "      <td>Florida awning manufacturer shooting</td>\n",
       "      <td>Atlantis Plastics shooting</td>\n",
       "      <td>0.6545</td>\n",
       "    </tr>\n",
       "    <tr>\n",
       "      <th>8739</th>\n",
       "      <td>Northern Illinois University shooting</td>\n",
       "      <td>Welding shop shooting</td>\n",
       "      <td>0.6532</td>\n",
       "    </tr>\n",
       "  </tbody>\n",
       "</table>\n",
       "</div>"
      ],
      "text/plain": [
       "                                     case_1  \\\n",
       "5928   Florida awning manufacturer shooting   \n",
       "4096                Mercy Hospital shooting   \n",
       "3101          Pensacola Naval base shooting   \n",
       "3129          Pensacola Naval base shooting   \n",
       "2447         Orange office complex shooting   \n",
       "7952        Accent Signage Systems shooting   \n",
       "527               Virginia Walmart shooting   \n",
       "4062                Mercy Hospital shooting   \n",
       "5942   Florida awning manufacturer shooting   \n",
       "8739  Northern Illinois University shooting   \n",
       "\n",
       "                                       case_2  similarity_score  \n",
       "5928          Accent Signage Systems shooting            0.7191  \n",
       "4096                     Fort Hood shooting 2            0.6991  \n",
       "3101  Chattanooga military recruitment center            0.6913  \n",
       "3129    Northern Illinois University shooting            0.6691  \n",
       "2447       Caltrans maintenance yard shooting            0.6613  \n",
       "7952                Standard Gravure shooting            0.6610  \n",
       "527        Caltrans maintenance yard shooting            0.6573  \n",
       "4062                    T&T Trucking shooting            0.6560  \n",
       "5942               Atlantis Plastics shooting            0.6545  \n",
       "8739                    Welding shop shooting            0.6532  "
      ]
     },
     "execution_count": 28,
     "metadata": {},
     "output_type": "execute_result"
    }
   ],
   "source": [
    "# retrieving top 10 most similar cases\n",
    "df_cases = text_cosine_similarity(case_combinations, vector_combinations)\n",
    "df_top = df_cases.nlargest(10, 'similarity_score')\n",
    "df_top"
   ]
  },
  {
   "cell_type": "code",
   "execution_count": 29,
   "id": "27218676-13bf-4bf8-8ee9-1069457cf102",
   "metadata": {},
   "outputs": [],
   "source": [
    "# exporting top 10 most similar cases\n",
    "df_top.to_csv('top_similar_cases.csv')"
   ]
  }
 ],
 "metadata": {
  "kernelspec": {
   "display_name": "bert_transformers",
   "language": "python",
   "name": "bert_transformers"
  },
  "language_info": {
   "codemirror_mode": {
    "name": "ipython",
    "version": 3
   },
   "file_extension": ".py",
   "mimetype": "text/x-python",
   "name": "python",
   "nbconvert_exporter": "python",
   "pygments_lexer": "ipython3",
   "version": "3.10.9"
  }
 },
 "nbformat": 4,
 "nbformat_minor": 5
}
